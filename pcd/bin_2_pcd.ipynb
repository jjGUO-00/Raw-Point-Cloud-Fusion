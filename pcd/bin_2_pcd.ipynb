{
 "cells": [
  {
   "cell_type": "markdown",
   "metadata": {},
   "source": [
    "# 将nuScenes的点云转换成pcd ASCII格式存储\n"
   ]
  },
  {
   "cell_type": "code",
   "execution_count": 3,
   "metadata": {},
   "outputs": [],
   "source": [
    "import numpy as np\n",
    "# nuScenes点云数据读取代码\n",
    "def load_pc_from_file(pc_f):\n",
    "    # nuScenes lidar is 5 digits one line (last one the ring index)\n",
    "    return np.fromfile(pc_f, dtype=np.float32, count=-1).reshape([-1, 5])"
   ]
  },
  {
   "cell_type": "code",
   "execution_count": 5,
   "metadata": {},
   "outputs": [],
   "source": [
    "pc_bin_path = './n008-2018-08-01-15-16-36-0400__LIDAR_TOP__1533151061547455.pcd.bin'\n",
    "cloud = load_pc_from_file(pc_bin_path)\n",
    "\n"
   ]
  },
  {
   "cell_type": "code",
   "execution_count": 6,
   "metadata": {},
   "outputs": [
    {
     "name": "stdout",
     "output_type": "stream",
     "text": [
      "(34720, 5)\n",
      "34720\n",
      "[ 8.  7.  9. 11. 10.]\n"
     ]
    }
   ],
   "source": [
    "print(cloud.shape)\n",
    "print(len(cloud))\n",
    "print(cloud[:5,3])"
   ]
  },
  {
   "cell_type": "code",
   "execution_count": 8,
   "metadata": {},
   "outputs": [],
   "source": [
    "pcd_path_1 = './nuScenes_Point_Cloud/pcd/cloud1.pcd'\n",
    "pcd_path_2 = './cloud2.pcd'\n",
    "\n",
    "with open(pcd_path_1, 'w') as f:\n",
    "    # 写入PCD文件头\n",
    "    f.write('# .PCD v0.7 - Point Cloud Data file format\\n')\n",
    "    f.write('VERSION 0.7\\n')\n",
    "    f.write('FIELDS x y z intensity\\n')\n",
    "    f.write('SIZE 4 4 4 4\\n')\n",
    "    f.write('TYPE F F F F\\n')\n",
    "    f.write('COUNT 1 1 1 1\\n')\n",
    "    f.write('WIDTH {}\\n'.format(len(cloud)))\n",
    "    f.write('HEIGHT 1\\n')\n",
    "    f.write('VIEWPOINT 0 0 0 1 0 0 0\\n')\n",
    "    f.write('POINTS {}\\n'.format(len(cloud)))\n",
    "    f.write('DATA ascii\\n')\n",
    "    for point in cloud:\n",
    "        x, y, z, intensity, ring = point\n",
    "        f.write('{} {} {} {}\\n'.format(x, y, z, intensity))\n",
    "\n",
    "# 生成一个大小为 (34720, 3) 的随机数的二维数组，随机数的范围是 (-0.005,0.005)\n",
    "noise_array = np.random.uniform(0, 0.002, (len(cloud), 3))\n",
    "noise_array -= 0.001\n",
    "\n",
    "with open(pcd_path_2, 'w') as f:\n",
    "    # 写入PCD文件头\n",
    "    f.write('# .PCD v0.7 - Point Cloud Data file format\\n')\n",
    "    f.write('VERSION 0.7\\n')\n",
    "    f.write('FIELDS x y z intensity\\n')\n",
    "    f.write('SIZE 4 4 4 4\\n')\n",
    "    f.write('TYPE F F F F\\n')\n",
    "    f.write('COUNT 1 1 1 1\\n')\n",
    "    f.write('WIDTH {}\\n'.format(len(cloud)))\n",
    "    f.write('HEIGHT 1\\n')\n",
    "    f.write('VIEWPOINT 0 0 0 1 0 0 0\\n')\n",
    "    f.write('POINTS {}\\n'.format(len(cloud)))\n",
    "    f.write('DATA ascii\\n')\n",
    "    for id, point in enumerate(cloud):\n",
    "        x, y, z, intensity, ring = point\n",
    "        f.write('{} {} {} {}\\n'.format(x+noise_array[id][0], y+noise_array[id][1], z+noise_array[id][2], intensity))\n",
    "\n",
    "#"
   ]
  },
  {
   "cell_type": "markdown",
   "metadata": {},
   "source": [
    "# 读取pcd文件"
   ]
  },
  {
   "cell_type": "code",
   "execution_count": 19,
   "metadata": {},
   "outputs": [
    {
     "name": "stdout",
     "output_type": "stream",
     "text": [
      "34720\n",
      "34720\n",
      "(34720, 3)\n"
     ]
    }
   ],
   "source": [
    "import pclpy\n",
    "from pclpy import pcl\n",
    "import numpy as np\n",
    "pc = pcl.PointCloud.PointXYZI()\n",
    "reader = pcl.io.PCDReader()\n",
    "reader.read(\"cloud1.pcd\", pc)\n",
    "\n",
    "\n",
    "print(pc.size())\n",
    "\n",
    "pc2 = pcl.PointCloud.PointXYZI()\n",
    "reader = pcl.io.PCDReader()\n",
    "reader.read(\"fusion_result.pcd\", pc2)\n",
    "print(pc2.size())\n",
    "\n",
    "pcl2 = np.column_stack((pc2.x, pc2.y, pc2.z))\n",
    "print(pcl2.shape)"
   ]
  }
 ],
 "metadata": {
  "kernelspec": {
   "display_name": "Python 3.10.9 ('base')",
   "language": "python",
   "name": "python3"
  },
  "language_info": {
   "codemirror_mode": {
    "name": "ipython",
    "version": 3
   },
   "file_extension": ".py",
   "mimetype": "text/x-python",
   "name": "python",
   "nbconvert_exporter": "python",
   "pygments_lexer": "ipython3",
   "version": "3.10.13"
  },
  "vscode": {
   "interpreter": {
    "hash": "c58c576deaeb0f00210aba60917923e4504f6f4777dafb9341143e89d1973238"
   }
  }
 },
 "nbformat": 4,
 "nbformat_minor": 2
}
